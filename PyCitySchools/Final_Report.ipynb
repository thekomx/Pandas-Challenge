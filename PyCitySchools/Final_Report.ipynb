{
 "cells": [
  {
   "cell_type": "code",
   "execution_count": null,
   "metadata": {},
   "outputs": [],
   "source": [
    "import pandas as pd\n",
    "import os as OS\n",
    "\n",
    "file_path_school = OS.path.join('Resources','Schools_Complete.csv')\n",
    "file_path_student = OS.path.join('Resources','Students_Complete.csv')\n",
    "\n",
    "pd_csv_school = pd.read_csv(file_path_school)\n",
    "pd_csv_student = pd.read_csv(file_path_student)\n",
    "\n",
    "#pd_csv_school=pd.DataFrame(pd_csv_school)\n",
    "pd_csv_school.rename(columns={\"school_name\":\"school\"}, inplace=True)\n",
    "pd_csv_student.rename(columns={\"school_name\":\"school\"}, inplace=True)\n",
    "#pd_csv_school\n",
    "merged_df = pd.merge(pd_csv_student, pd_csv_school, how='outer')#, on=['school'])\n",
    "merged_df"
   ]
  }
 ],
 "metadata": {
  "kernelspec": {
   "display_name": "Python [conda env:PythonDataX]",
   "language": "python",
   "name": "conda-env-PythonDataX-py"
  },
  "language_info": {
   "codemirror_mode": {
    "name": "ipython",
    "version": 3
   },
   "file_extension": ".py",
   "mimetype": "text/x-python",
   "name": "python",
   "nbconvert_exporter": "python",
   "pygments_lexer": "ipython3",
   "version": "3.6.10"
  }
 },
 "nbformat": 4,
 "nbformat_minor": 4
}
